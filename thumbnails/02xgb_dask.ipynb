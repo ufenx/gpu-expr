{
 "cells": [
  {
   "cell_type": "code",
   "execution_count": 5,
   "id": "3ca1b157-0397-4d3c-ba9b-227e2caa602c",
   "metadata": {},
   "outputs": [
    {
     "name": "stdout",
     "output_type": "stream",
     "text": [
      "Accuracy: 0.9798\n",
      "Dask Time: 1.71 seconds\n"
     ]
    }
   ],
   "source": [
    "from xgboost import dask as dxgb\n",
    "import dask.array as da\n",
    "import dask.distributed\n",
    "from sklearn.datasets import make_classification\n",
    "from sklearn.model_selection import train_test_split\n",
    "from sklearn.metrics import accuracy_score\n",
    "import dask.dataframe as dd\n",
    "import dask.array as da\n",
    "import numpy as np\n",
    "\n",
    "import time\n",
    "\n",
    "import os\n",
    "import sys\n",
    "sys.stderr = open(os.devnull, 'w')\n",
    "\n",
    "cluster = dask.distributed.LocalCluster()\n",
    "client = dask.distributed.Client(cluster)\n",
    "\n",
    "# Use scikit-learn to generate dataset\n",
    "from sklearn.datasets import make_classification\n",
    "X_np, y_np = make_classification(\n",
    "    n_samples=1_000_000,\n",
    "    n_features=20,\n",
    "    random_state=42\n",
    ")\n",
    "\n",
    "# Split into train and test sets\n",
    "from sklearn.model_selection import train_test_split\n",
    "X_train_np, X_test_np, y_train_np, y_test_np = train_test_split(\n",
    "    X_np, y_np, test_size=0.2, random_state=42\n",
    ")\n",
    "\n",
    "# Convert NumPy arrays to Dask arrays\n",
    "X_train = da.from_array(X_train_np, chunks=(10000, -1))\n",
    "y_train = da.from_array(y_train_np, chunks=(10000,))\n",
    "X_test = da.from_array(X_test_np, chunks=(10000, -1))\n",
    "y_test = da.from_array(y_test_np, chunks=(10000,))\n",
    "\n",
    "# Create Dask DMatrix\n",
    "dtrain = dxgb.DaskDMatrix(client, X_train, y_train)\n",
    "dtest = dxgb.DaskDMatrix(client, X_test, y_test)\n",
    "\n",
    "# Training parameters\n",
    "params_gpu = {\n",
    "    'tree_method': 'hist',\n",
    "    'objective': 'binary:logistic',\n",
    "    'verbosity': 1,\n",
    "    'eta': 0.3\n",
    "}\n",
    "\n",
    "start = time.time()\n",
    "output = dxgb.train(\n",
    "    client,\n",
    "    params_gpu,\n",
    "    dtrain,\n",
    "    num_boost_round=10,\n",
    "    evals=[(dtrain, \"train\"), (dtest, \"test\")]\n",
    ")\n",
    "end = time.time()\n",
    "\n",
    "# Prediction\n",
    "y_pred_proba = dxgb.predict(client, output, dtest)\n",
    "y_pred = (y_pred_proba > 0.5).astype(int)\n",
    "\n",
    "# Compute accuracy\n",
    "y_true = y_test.compute()\n",
    "y_pred = y_pred.compute()\n",
    "acc = accuracy_score(y_true, y_pred)\n",
    "print(f\"Accuracy: {acc:.4f}\")\n",
    "print(f\"Dask Time: {end - start:.2f} seconds\")\n"
   ]
  },
  {
   "cell_type": "code",
   "execution_count": null,
   "id": "d772c8ef-3774-482c-bd92-b2a750ef57a1",
   "metadata": {},
   "outputs": [],
   "source": []
  }
 ],
 "metadata": {
  "kernelspec": {
   "display_name": "xgb-gpu118-dask",
   "language": "python",
   "name": "xgb-gpu118-dask"
  },
  "language_info": {
   "codemirror_mode": {
    "name": "ipython",
    "version": 3
   },
   "file_extension": ".py",
   "mimetype": "text/x-python",
   "name": "python",
   "nbconvert_exporter": "python",
   "pygments_lexer": "ipython3",
   "version": "3.10.17"
  }
 },
 "nbformat": 4,
 "nbformat_minor": 5
}
