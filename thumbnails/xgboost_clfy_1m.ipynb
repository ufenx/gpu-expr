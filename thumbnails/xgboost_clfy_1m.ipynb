{
 "cells": [
  {
   "cell_type": "code",
   "execution_count": 1,
   "id": "db6915e2-494a-4dc6-a5fb-7f2d33621f7b",
   "metadata": {},
   "outputs": [
    {
     "name": "stdout",
     "output_type": "stream",
     "text": [
      "Training with CPU...\n",
      "CPU Time: 1.54 seconds\n",
      "\n",
      "\n",
      "Training with GPU...\n",
      "GPU Time: 0.59 seconds\n"
     ]
    }
   ],
   "source": [
    "import time\n",
    "import xgboost as xgb\n",
    "from sklearn.datasets import make_classification\n",
    "from sklearn.model_selection import train_test_split\n",
    "from sklearn.metrics import accuracy_score\n",
    "\n",
    "# Generate synthetic data\n",
    "X, y = make_classification(n_samples=1_000_000, n_features=20, random_state=42)\n",
    "X_train, X_test, y_train, y_test = train_test_split(X, y, test_size=0.2, random_state=42)\n",
    "\n",
    "dtrain = xgb.DMatrix(X_train, label=y_train)\n",
    "dtest = xgb.DMatrix(X_test, label=y_test)\n",
    "\n",
    "# Training parameters\n",
    "params_gpu = {\n",
    "    'tree_method': 'hist',\n",
    "    'objective': 'binary:logistic',\n",
    "    'verbosity': 1,\n",
    "    'device': 'cuda',\n",
    "    'eta': 0.3\n",
    "}\n",
    "\n",
    "params_cpu = {\n",
    "    'tree_method': 'hist',\n",
    "    'objective': 'binary:logistic',\n",
    "    'verbosity': 1,\n",
    "    'eta': 0.3\n",
    "}\n",
    "\n",
    "def train_model(params, label):\n",
    "    print(f\"Training with {label}...\")\n",
    "    start = time.time()\n",
    "    bst = xgb.train(params, dtrain, num_boost_round=100)\n",
    "    end = time.time()\n",
    "    preds = bst.predict(dtest)\n",
    "    preds_binary = [1 if p > 0.5 else 0 for p in preds]\n",
    "    acc = accuracy_score(y_test, preds_binary)\n",
    "    print(f\"{label} Accuracy: {acc:.4f}\")\n",
    "    print(f\"{label} Time: {end - start:.2f} seconds\")\n",
    "\n",
    "# Run both\n",
    "train_model(params_cpu, \"CPU\")\n",
    "print(\"\\n\")\n",
    "train_model(params_gpu, \"GPU\")\n"
   ]
  },
  {
   "cell_type": "code",
   "execution_count": null,
   "id": "43bb18b8-1e04-407a-9f07-d79baa05decc",
   "metadata": {},
   "outputs": [],
   "source": []
  }
 ],
 "metadata": {
  "kernelspec": {
   "display_name": "xgb-gpu118",
   "language": "python",
   "name": "xgb-gpu118"
  },
  "language_info": {
   "codemirror_mode": {
    "name": "ipython",
    "version": 3
   },
   "file_extension": ".py",
   "mimetype": "text/x-python",
   "name": "python",
   "nbconvert_exporter": "python",
   "pygments_lexer": "ipython3",
   "version": "3.10.16"
  }
 },
 "nbformat": 4,
 "nbformat_minor": 5
}
