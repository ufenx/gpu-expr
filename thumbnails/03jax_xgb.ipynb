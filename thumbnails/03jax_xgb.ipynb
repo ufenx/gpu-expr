{
 "cells": [
  {
   "cell_type": "code",
   "execution_count": 1,
   "id": "2f52635c-6b91-411a-a389-39bb6ca9b26c",
   "metadata": {},
   "outputs": [
    {
     "name": "stdout",
     "output_type": "stream",
     "text": [
      "Training with CPU w/ JAX custom objective...\n"
     ]
    },
    {
     "name": "stderr",
     "output_type": "stream",
     "text": [
      "2025-06-03 18:27:08.936208: E external/xla/xla/service/gpu/gpu_hlo_schedule.cc:654] The byte size of input/output arguments (2560000000000) exceeds the base limit (31805177856). This indicates an error in the calculation!\n",
      "2025-06-03 18:27:08.936348: W external/xla/xla/hlo/transforms/simplifiers/hlo_rematerialization.cc:3022] Can't reduce memory use below 0B (0 bytes) by rematerialization; only reduced to 2.33TiB (2560000000000 bytes), down from 2.33TiB (2560000000000 bytes) originally\n",
      "2025-06-03 18:27:18.961465: W external/xla/xla/tsl/framework/bfc_allocator.cc:501] Allocator (GPU_0_bfc) ran out of memory trying to allocate 2.33TiB (rounded to 2560000000000)requested by op \n",
      "2025-06-03 18:27:18.961554: W external/xla/xla/tsl/framework/bfc_allocator.cc:512] *___________________________________________________________________________________________________\n",
      "E0603 18:27:18.961568   30137 pjrt_stream_executor_client.cc:2917] Execution of replica 0 failed: RESOURCE_EXHAUSTED: Out of memory while trying to allocate 2560000000000 bytes. [tf-allocator-allocation-error='']\n"
     ]
    },
    {
     "ename": "XlaRuntimeError",
     "evalue": "RESOURCE_EXHAUSTED: Out of memory while trying to allocate 2560000000000 bytes.",
     "output_type": "error",
     "traceback": [
      "\u001b[31m---------------------------------------------------------------------------\u001b[39m",
      "\u001b[31mXlaRuntimeError\u001b[39m                           Traceback (most recent call last)",
      "\u001b[36mCell\u001b[39m\u001b[36m \u001b[39m\u001b[32mIn[1]\u001b[39m\u001b[32m, line 68\u001b[39m\n\u001b[32m     64\u001b[39m     \u001b[38;5;28mprint\u001b[39m(\u001b[33mf\u001b[39m\u001b[33m\"\u001b[39m\u001b[38;5;132;01m{\u001b[39;00mlabel\u001b[38;5;132;01m}\u001b[39;00m\u001b[33m Time: \u001b[39m\u001b[38;5;132;01m{\u001b[39;00mend\u001b[38;5;250m \u001b[39m-\u001b[38;5;250m \u001b[39mstart\u001b[38;5;132;01m:\u001b[39;00m\u001b[33m.2f\u001b[39m\u001b[38;5;132;01m}\u001b[39;00m\u001b[33m seconds\u001b[39m\u001b[33m\"\u001b[39m)\n\u001b[32m     67\u001b[39m \u001b[38;5;66;03m# Run with custom JAX objective\u001b[39;00m\n\u001b[32m---> \u001b[39m\u001b[32m68\u001b[39m \u001b[43mtrain_model\u001b[49m\u001b[43m(\u001b[49m\u001b[43mparams\u001b[49m\u001b[43m,\u001b[49m\u001b[43m \u001b[49m\u001b[33;43m\"\u001b[39;49m\u001b[33;43mCPU w/ JAX custom objective\u001b[39;49m\u001b[33;43m\"\u001b[39;49m\u001b[43m)\u001b[49m\n",
      "\u001b[36mCell\u001b[39m\u001b[36m \u001b[39m\u001b[32mIn[1]\u001b[39m\u001b[32m, line 56\u001b[39m, in \u001b[36mtrain_model\u001b[39m\u001b[34m(params, label)\u001b[39m\n\u001b[32m     54\u001b[39m \u001b[38;5;28mprint\u001b[39m(\u001b[33mf\u001b[39m\u001b[33m\"\u001b[39m\u001b[33mTraining with \u001b[39m\u001b[38;5;132;01m{\u001b[39;00mlabel\u001b[38;5;132;01m}\u001b[39;00m\u001b[33m...\u001b[39m\u001b[33m\"\u001b[39m)\n\u001b[32m     55\u001b[39m start = time.time()\n\u001b[32m---> \u001b[39m\u001b[32m56\u001b[39m bst = \u001b[43mxgb\u001b[49m\u001b[43m.\u001b[49m\u001b[43mtrain\u001b[49m\u001b[43m(\u001b[49m\u001b[43mparams\u001b[49m\u001b[43m,\u001b[49m\u001b[43m \u001b[49m\u001b[43mdtrain\u001b[49m\u001b[43m,\u001b[49m\u001b[43m \u001b[49m\u001b[43mnum_boost_round\u001b[49m\u001b[43m=\u001b[49m\u001b[32;43m100\u001b[39;49m\u001b[43m,\u001b[49m\u001b[43m \u001b[49m\u001b[43mobj\u001b[49m\u001b[43m=\u001b[49m\u001b[43mcustom_obj_jax\u001b[49m\u001b[43m)\u001b[49m\n\u001b[32m     57\u001b[39m end = time.time()\n\u001b[32m     59\u001b[39m preds = bst.predict(dtest)\n",
      "\u001b[36mFile \u001b[39m\u001b[32m~/miniconda3/envs/jax/lib/python3.13/site-packages/xgboost/core.py:729\u001b[39m, in \u001b[36mrequire_keyword_args.<locals>.throw_if.<locals>.inner_f\u001b[39m\u001b[34m(*args, **kwargs)\u001b[39m\n\u001b[32m    727\u001b[39m \u001b[38;5;28;01mfor\u001b[39;00m k, arg \u001b[38;5;129;01min\u001b[39;00m \u001b[38;5;28mzip\u001b[39m(sig.parameters, args):\n\u001b[32m    728\u001b[39m     kwargs[k] = arg\n\u001b[32m--> \u001b[39m\u001b[32m729\u001b[39m \u001b[38;5;28;01mreturn\u001b[39;00m \u001b[43mfunc\u001b[49m\u001b[43m(\u001b[49m\u001b[43m*\u001b[49m\u001b[43m*\u001b[49m\u001b[43mkwargs\u001b[49m\u001b[43m)\u001b[49m\n",
      "\u001b[36mFile \u001b[39m\u001b[32m~/miniconda3/envs/jax/lib/python3.13/site-packages/xgboost/training.py:183\u001b[39m, in \u001b[36mtrain\u001b[39m\u001b[34m(params, dtrain, num_boost_round, evals, obj, maximize, early_stopping_rounds, evals_result, verbose_eval, xgb_model, callbacks, custom_metric)\u001b[39m\n\u001b[32m    181\u001b[39m \u001b[38;5;28;01mif\u001b[39;00m cb_container.before_iteration(bst, i, dtrain, evals):\n\u001b[32m    182\u001b[39m     \u001b[38;5;28;01mbreak\u001b[39;00m\n\u001b[32m--> \u001b[39m\u001b[32m183\u001b[39m \u001b[43mbst\u001b[49m\u001b[43m.\u001b[49m\u001b[43mupdate\u001b[49m\u001b[43m(\u001b[49m\u001b[43mdtrain\u001b[49m\u001b[43m,\u001b[49m\u001b[43m \u001b[49m\u001b[43miteration\u001b[49m\u001b[43m=\u001b[49m\u001b[43mi\u001b[49m\u001b[43m,\u001b[49m\u001b[43m \u001b[49m\u001b[43mfobj\u001b[49m\u001b[43m=\u001b[49m\u001b[43mobj\u001b[49m\u001b[43m)\u001b[49m\n\u001b[32m    184\u001b[39m \u001b[38;5;28;01mif\u001b[39;00m cb_container.after_iteration(bst, i, dtrain, evals):\n\u001b[32m    185\u001b[39m     \u001b[38;5;28;01mbreak\u001b[39;00m\n",
      "\u001b[36mFile \u001b[39m\u001b[32m~/miniconda3/envs/jax/lib/python3.13/site-packages/xgboost/core.py:2253\u001b[39m, in \u001b[36mBooster.update\u001b[39m\u001b[34m(self, dtrain, iteration, fobj)\u001b[39m\n\u001b[32m   2251\u001b[39m \u001b[38;5;28;01melse\u001b[39;00m:\n\u001b[32m   2252\u001b[39m     pred = \u001b[38;5;28mself\u001b[39m.predict(dtrain, output_margin=\u001b[38;5;28;01mTrue\u001b[39;00m, training=\u001b[38;5;28;01mTrue\u001b[39;00m)\n\u001b[32m-> \u001b[39m\u001b[32m2253\u001b[39m     grad, hess = \u001b[43mfobj\u001b[49m\u001b[43m(\u001b[49m\u001b[43mpred\u001b[49m\u001b[43m,\u001b[49m\u001b[43m \u001b[49m\u001b[43mdtrain\u001b[49m\u001b[43m)\u001b[49m\n\u001b[32m   2254\u001b[39m     \u001b[38;5;28mself\u001b[39m.boost(dtrain, iteration=iteration, grad=grad, hess=hess)\n",
      "\u001b[36mCell\u001b[39m\u001b[36m \u001b[39m\u001b[32mIn[1]\u001b[39m\u001b[32m, line 32\u001b[39m, in \u001b[36mcustom_obj_jax\u001b[39m\u001b[34m(preds, dtrain)\u001b[39m\n\u001b[32m     30\u001b[39m preds_jax = jnp.array(preds)\n\u001b[32m     31\u001b[39m grad_val = grad_fn(preds_jax)\n\u001b[32m---> \u001b[39m\u001b[32m32\u001b[39m hess_val = \u001b[43mhess_fn\u001b[49m\u001b[43m(\u001b[49m\u001b[43mpreds_jax\u001b[49m\u001b[43m)\u001b[49m\n\u001b[32m     34\u001b[39m \u001b[38;5;28;01mreturn\u001b[39;00m np.array(grad_val), np.array(hess_val)\n",
      "\u001b[36mFile \u001b[39m\u001b[32m~/miniconda3/envs/jax/lib/python3.13/site-packages/jax/_src/api.py:705\u001b[39m, in \u001b[36mjacfwd.<locals>.jacfun\u001b[39m\u001b[34m(*args, **kwargs)\u001b[39m\n\u001b[32m    703\u001b[39m \u001b[38;5;28;01mif\u001b[39;00m \u001b[38;5;129;01mnot\u001b[39;00m has_aux:\n\u001b[32m    704\u001b[39m   pushfwd: Callable = partial(_jvp, f_partial, dyn_args)\n\u001b[32m--> \u001b[39m\u001b[32m705\u001b[39m   y, jac = vmap(pushfwd, out_axes=(\u001b[38;5;28;01mNone\u001b[39;00m, -\u001b[32m1\u001b[39m))(\u001b[43m_std_basis\u001b[49m\u001b[43m(\u001b[49m\u001b[43mdyn_args\u001b[49m\u001b[43m)\u001b[49m)\n\u001b[32m    706\u001b[39m \u001b[38;5;28;01melse\u001b[39;00m:\n\u001b[32m    707\u001b[39m   pushfwd: Callable = partial(_jvp, f_partial, dyn_args, has_aux=\u001b[38;5;28;01mTrue\u001b[39;00m)\n",
      "\u001b[36mFile \u001b[39m\u001b[32m~/miniconda3/envs/jax/lib/python3.13/site-packages/jax/_src/api.py:895\u001b[39m, in \u001b[36m_std_basis\u001b[39m\u001b[34m(pytree)\u001b[39m\n\u001b[32m    893\u001b[39m ndim = \u001b[38;5;28msum\u001b[39m(\u001b[38;5;28mmap\u001b[39m(np.size, leaves))\n\u001b[32m    894\u001b[39m dtype = dtypes.result_type(*leaves)\n\u001b[32m--> \u001b[39m\u001b[32m895\u001b[39m flat_basis = \u001b[43mjnp\u001b[49m\u001b[43m.\u001b[49m\u001b[43meye\u001b[49m\u001b[43m(\u001b[49m\u001b[43mndim\u001b[49m\u001b[43m,\u001b[49m\u001b[43m \u001b[49m\u001b[43mdtype\u001b[49m\u001b[43m=\u001b[49m\u001b[43mdtype\u001b[49m\u001b[43m)\u001b[49m\n\u001b[32m    896\u001b[39m \u001b[38;5;28;01mreturn\u001b[39;00m _unravel_array_into_pytree(pytree, \u001b[32m1\u001b[39m, \u001b[38;5;28;01mNone\u001b[39;00m, flat_basis)\n",
      "\u001b[36mFile \u001b[39m\u001b[32m~/miniconda3/envs/jax/lib/python3.13/site-packages/jax/_src/numpy/lax_numpy.py:6184\u001b[39m, in \u001b[36meye\u001b[39m\u001b[34m(N, M, k, dtype, device)\u001b[39m\n\u001b[32m   6135\u001b[39m \u001b[38;5;250m\u001b[39m\u001b[33;03m\"\"\"Create a square or rectangular identity matrix\u001b[39;00m\n\u001b[32m   6136\u001b[39m \n\u001b[32m   6137\u001b[39m \u001b[33;03mJAX implementation of :func:`numpy.eye`.\u001b[39;00m\n\u001b[32m   (...)\u001b[39m\u001b[32m   6180\u001b[39m \u001b[33;03m         [0., 0., 0., 1., 0.]], dtype=float32)\u001b[39;00m\n\u001b[32m   6181\u001b[39m \u001b[33;03m\"\"\"\u001b[39;00m\n\u001b[32m   6182\u001b[39m \u001b[38;5;66;03m# TODO(vfdev-5): optimize putting the array directly on the device specified\u001b[39;00m\n\u001b[32m   6183\u001b[39m \u001b[38;5;66;03m# instead of putting it on default device and then on the specific device\u001b[39;00m\n\u001b[32m-> \u001b[39m\u001b[32m6184\u001b[39m output = \u001b[43m_eye\u001b[49m\u001b[43m(\u001b[49m\u001b[43mN\u001b[49m\u001b[43m,\u001b[49m\u001b[43m \u001b[49m\u001b[43mM\u001b[49m\u001b[43m=\u001b[49m\u001b[43mM\u001b[49m\u001b[43m,\u001b[49m\u001b[43m \u001b[49m\u001b[43mk\u001b[49m\u001b[43m=\u001b[49m\u001b[43mk\u001b[49m\u001b[43m,\u001b[49m\u001b[43m \u001b[49m\u001b[43mdtype\u001b[49m\u001b[43m=\u001b[49m\u001b[43mdtype\u001b[49m\u001b[43m)\u001b[49m\n\u001b[32m   6185\u001b[39m \u001b[38;5;28;01mif\u001b[39;00m device \u001b[38;5;129;01mis\u001b[39;00m \u001b[38;5;129;01mnot\u001b[39;00m \u001b[38;5;28;01mNone\u001b[39;00m:\n\u001b[32m   6186\u001b[39m   \u001b[38;5;28;01mreturn\u001b[39;00m jax.device_put(output, device=device)\n",
      "\u001b[36mFile \u001b[39m\u001b[32m~/miniconda3/envs/jax/lib/python3.13/site-packages/jax/_src/numpy/lax_numpy.py:6204\u001b[39m, in \u001b[36m_eye\u001b[39m\u001b[34m(N, M, k, dtype)\u001b[39m\n\u001b[32m   6202\u001b[39m \u001b[38;5;28;01mif\u001b[39;00m N_int < \u001b[32m0\u001b[39m \u001b[38;5;129;01mor\u001b[39;00m M_int < \u001b[32m0\u001b[39m:\n\u001b[32m   6203\u001b[39m   \u001b[38;5;28;01mraise\u001b[39;00m \u001b[38;5;167;01mValueError\u001b[39;00m(\u001b[33mf\u001b[39m\u001b[33m\"\u001b[39m\u001b[33mnegative dimensions are not allowed, got \u001b[39m\u001b[38;5;132;01m{\u001b[39;00mN\u001b[38;5;132;01m}\u001b[39;00m\u001b[33m and \u001b[39m\u001b[38;5;132;01m{\u001b[39;00mM\u001b[38;5;132;01m}\u001b[39;00m\u001b[33m\"\u001b[39m)\n\u001b[32m-> \u001b[39m\u001b[32m6204\u001b[39m i = \u001b[43mlax\u001b[49m\u001b[43m.\u001b[49m\u001b[43mbroadcasted_iota\u001b[49m\u001b[43m(\u001b[49m\u001b[43moffset\u001b[49m\u001b[43m.\u001b[49m\u001b[43mdtype\u001b[49m\u001b[43m,\u001b[49m\u001b[43m \u001b[49m\u001b[43m(\u001b[49m\u001b[43mN_int\u001b[49m\u001b[43m,\u001b[49m\u001b[43m \u001b[49m\u001b[43mM_int\u001b[49m\u001b[43m)\u001b[49m\u001b[43m,\u001b[49m\u001b[43m \u001b[49m\u001b[32;43m0\u001b[39;49m\u001b[43m)\u001b[49m\n\u001b[32m   6205\u001b[39m j = lax.broadcasted_iota(offset.dtype, (N_int, M_int), \u001b[32m1\u001b[39m)\n\u001b[32m   6206\u001b[39m \u001b[38;5;28;01mreturn\u001b[39;00m (i + offset == j).astype(dtype)\n",
      "\u001b[36mFile \u001b[39m\u001b[32m~/miniconda3/envs/jax/lib/python3.13/site-packages/jax/_src/lax/lax.py:3392\u001b[39m, in \u001b[36mbroadcasted_iota\u001b[39m\u001b[34m(dtype, shape, dimension, out_sharding)\u001b[39m\n\u001b[32m   3389\u001b[39m dimension = core.concrete_or_error(\n\u001b[32m   3390\u001b[39m     \u001b[38;5;28mint\u001b[39m, dimension, \u001b[33m\"\u001b[39m\u001b[33mdimension argument of lax.broadcasted_iota\u001b[39m\u001b[33m\"\u001b[39m)\n\u001b[32m   3391\u001b[39m out_sharding = canonicalize_sharding(out_sharding, \u001b[33m'\u001b[39m\u001b[33mbroadcasted_iota\u001b[39m\u001b[33m'\u001b[39m)\n\u001b[32m-> \u001b[39m\u001b[32m3392\u001b[39m \u001b[38;5;28;01mreturn\u001b[39;00m \u001b[43miota_p\u001b[49m\u001b[43m.\u001b[49m\u001b[43mbind\u001b[49m\u001b[43m(\u001b[49m\u001b[43m*\u001b[49m\u001b[43mdynamic_shape\u001b[49m\u001b[43m,\u001b[49m\u001b[43m \u001b[49m\u001b[43mdtype\u001b[49m\u001b[43m=\u001b[49m\u001b[43mdtype\u001b[49m\u001b[43m,\u001b[49m\u001b[43m \u001b[49m\u001b[43mshape\u001b[49m\u001b[43m=\u001b[49m\u001b[38;5;28;43mtuple\u001b[39;49m\u001b[43m(\u001b[49m\u001b[43mstatic_shape\u001b[49m\u001b[43m)\u001b[49m\u001b[43m,\u001b[49m\n\u001b[32m   3393\u001b[39m \u001b[43m                   \u001b[49m\u001b[43mdimension\u001b[49m\u001b[43m=\u001b[49m\u001b[43mdimension\u001b[49m\u001b[43m,\u001b[49m\u001b[43m \u001b[49m\u001b[43msharding\u001b[49m\u001b[43m=\u001b[49m\u001b[43mout_sharding\u001b[49m\u001b[43m)\u001b[49m\n",
      "\u001b[36mFile \u001b[39m\u001b[32m~/miniconda3/envs/jax/lib/python3.13/site-packages/jax/_src/core.py:531\u001b[39m, in \u001b[36mPrimitive.bind\u001b[39m\u001b[34m(self, *args, **params)\u001b[39m\n\u001b[32m    529\u001b[39m \u001b[38;5;28;01mdef\u001b[39;00m\u001b[38;5;250m \u001b[39m\u001b[34mbind\u001b[39m(\u001b[38;5;28mself\u001b[39m, *args, **params):\n\u001b[32m    530\u001b[39m   args = args \u001b[38;5;28;01mif\u001b[39;00m \u001b[38;5;28mself\u001b[39m.skip_canonicalization \u001b[38;5;28;01melse\u001b[39;00m \u001b[38;5;28mmap\u001b[39m(canonicalize_value, args)\n\u001b[32m--> \u001b[39m\u001b[32m531\u001b[39m   \u001b[38;5;28;01mreturn\u001b[39;00m \u001b[38;5;28;43mself\u001b[39;49m\u001b[43m.\u001b[49m\u001b[43m_true_bind\u001b[49m\u001b[43m(\u001b[49m\u001b[43m*\u001b[49m\u001b[43margs\u001b[49m\u001b[43m,\u001b[49m\u001b[43m \u001b[49m\u001b[43m*\u001b[49m\u001b[43m*\u001b[49m\u001b[43mparams\u001b[49m\u001b[43m)\u001b[49m\n",
      "\u001b[36mFile \u001b[39m\u001b[32m~/miniconda3/envs/jax/lib/python3.13/site-packages/jax/_src/core.py:551\u001b[39m, in \u001b[36mPrimitive._true_bind\u001b[39m\u001b[34m(self, *args, **params)\u001b[39m\n\u001b[32m    549\u001b[39m trace_ctx.set_trace(eval_trace)\n\u001b[32m    550\u001b[39m \u001b[38;5;28;01mtry\u001b[39;00m:\n\u001b[32m--> \u001b[39m\u001b[32m551\u001b[39m   \u001b[38;5;28;01mreturn\u001b[39;00m \u001b[38;5;28;43mself\u001b[39;49m\u001b[43m.\u001b[49m\u001b[43mbind_with_trace\u001b[49m\u001b[43m(\u001b[49m\u001b[43mprev_trace\u001b[49m\u001b[43m,\u001b[49m\u001b[43m \u001b[49m\u001b[43margs\u001b[49m\u001b[43m,\u001b[49m\u001b[43m \u001b[49m\u001b[43mparams\u001b[49m\u001b[43m)\u001b[49m\n\u001b[32m    552\u001b[39m \u001b[38;5;28;01mfinally\u001b[39;00m:\n\u001b[32m    553\u001b[39m   trace_ctx.set_trace(prev_trace)\n",
      "\u001b[36mFile \u001b[39m\u001b[32m~/miniconda3/envs/jax/lib/python3.13/site-packages/jax/_src/core.py:556\u001b[39m, in \u001b[36mPrimitive.bind_with_trace\u001b[39m\u001b[34m(self, trace, args, params)\u001b[39m\n\u001b[32m    555\u001b[39m \u001b[38;5;28;01mdef\u001b[39;00m\u001b[38;5;250m \u001b[39m\u001b[34mbind_with_trace\u001b[39m(\u001b[38;5;28mself\u001b[39m, trace, args, params):\n\u001b[32m--> \u001b[39m\u001b[32m556\u001b[39m   \u001b[38;5;28;01mreturn\u001b[39;00m \u001b[43mtrace\u001b[49m\u001b[43m.\u001b[49m\u001b[43mprocess_primitive\u001b[49m\u001b[43m(\u001b[49m\u001b[38;5;28;43mself\u001b[39;49m\u001b[43m,\u001b[49m\u001b[43m \u001b[49m\u001b[43margs\u001b[49m\u001b[43m,\u001b[49m\u001b[43m \u001b[49m\u001b[43mparams\u001b[49m\u001b[43m)\u001b[49m\n",
      "\u001b[36mFile \u001b[39m\u001b[32m~/miniconda3/envs/jax/lib/python3.13/site-packages/jax/_src/core.py:1060\u001b[39m, in \u001b[36mEvalTrace.process_primitive\u001b[39m\u001b[34m(self, primitive, args, params)\u001b[39m\n\u001b[32m   1058\u001b[39m args = \u001b[38;5;28mmap\u001b[39m(full_lower, args)\n\u001b[32m   1059\u001b[39m check_eval_args(args)\n\u001b[32m-> \u001b[39m\u001b[32m1060\u001b[39m \u001b[38;5;28;01mreturn\u001b[39;00m \u001b[43mprimitive\u001b[49m\u001b[43m.\u001b[49m\u001b[43mimpl\u001b[49m\u001b[43m(\u001b[49m\u001b[43m*\u001b[49m\u001b[43margs\u001b[49m\u001b[43m,\u001b[49m\u001b[43m \u001b[49m\u001b[43m*\u001b[49m\u001b[43m*\u001b[49m\u001b[43mparams\u001b[49m\u001b[43m)\u001b[49m\n",
      "\u001b[36mFile \u001b[39m\u001b[32m~/miniconda3/envs/jax/lib/python3.13/site-packages/jax/_src/dispatch.py:88\u001b[39m, in \u001b[36mapply_primitive\u001b[39m\u001b[34m(prim, *args, **params)\u001b[39m\n\u001b[32m     86\u001b[39m prev = lib.jax_jit.swap_thread_local_state_disable_jit(\u001b[38;5;28;01mFalse\u001b[39;00m)\n\u001b[32m     87\u001b[39m \u001b[38;5;28;01mtry\u001b[39;00m:\n\u001b[32m---> \u001b[39m\u001b[32m88\u001b[39m   outs = \u001b[43mfun\u001b[49m\u001b[43m(\u001b[49m\u001b[43m*\u001b[49m\u001b[43margs\u001b[49m\u001b[43m)\u001b[49m\n\u001b[32m     89\u001b[39m \u001b[38;5;28;01mfinally\u001b[39;00m:\n\u001b[32m     90\u001b[39m   lib.jax_jit.swap_thread_local_state_disable_jit(prev)\n",
      "    \u001b[31m[... skipping hidden 5 frame]\u001b[39m\n",
      "\u001b[36mFile \u001b[39m\u001b[32m~/miniconda3/envs/jax/lib/python3.13/site-packages/jax/_src/interpreters/pxla.py:1306\u001b[39m, in \u001b[36mExecuteReplicated.__call__\u001b[39m\u001b[34m(self, *args)\u001b[39m\n\u001b[32m   1304\u001b[39m   \u001b[38;5;28mself\u001b[39m._handle_token_bufs(result_token_bufs, sharded_runtime_token)\n\u001b[32m   1305\u001b[39m \u001b[38;5;28;01melse\u001b[39;00m:\n\u001b[32m-> \u001b[39m\u001b[32m1306\u001b[39m   results = \u001b[38;5;28;43mself\u001b[39;49m\u001b[43m.\u001b[49m\u001b[43mxla_executable\u001b[49m\u001b[43m.\u001b[49m\u001b[43mexecute_sharded\u001b[49m\u001b[43m(\u001b[49m\u001b[43minput_bufs\u001b[49m\u001b[43m)\u001b[49m\n\u001b[32m   1308\u001b[39m \u001b[38;5;28;01mif\u001b[39;00m dispatch.needs_check_special():\n\u001b[32m   1309\u001b[39m   out_arrays = results.disassemble_into_single_device_arrays()\n",
      "\u001b[31mXlaRuntimeError\u001b[39m: RESOURCE_EXHAUSTED: Out of memory while trying to allocate 2560000000000 bytes."
     ]
    }
   ],
   "source": [
    "import time\n",
    "import xgboost as xgb\n",
    "from sklearn.datasets import make_classification\n",
    "from sklearn.model_selection import train_test_split\n",
    "from sklearn.metrics import accuracy_score\n",
    "\n",
    "import jax.numpy as jnp\n",
    "from jax import grad, jacfwd\n",
    "import numpy as np\n",
    "\n",
    "\n",
    "# Custom binary logistic loss using JAX\n",
    "def custom_logistic_loss(preds, labels):\n",
    "    preds = 1 / (1 + jnp.exp(-preds))  # sigmoid\n",
    "    eps = 1e-7\n",
    "    return -jnp.sum(labels * jnp.log(preds + eps) + (1 - labels) * jnp.log(1 - preds + eps))\n",
    "\n",
    "\n",
    "def custom_obj_jax(preds, dtrain):\n",
    "    labels = dtrain.get_label()\n",
    "    labels = jnp.array(labels)\n",
    "\n",
    "    def loss_fn(preds_):\n",
    "        return custom_logistic_loss(preds_, labels)\n",
    "\n",
    "    # Get gradient and hessian using JAX\n",
    "    grad_fn = grad(loss_fn)\n",
    "    hess_fn = jacfwd(grad_fn)\n",
    "\n",
    "    preds_jax = jnp.array(preds)\n",
    "    grad_val = grad_fn(preds_jax)\n",
    "    hess_val = hess_fn(preds_jax)\n",
    "\n",
    "    return np.array(grad_val), np.array(hess_val)\n",
    "\n",
    "\n",
    "# Generate synthetic data\n",
    "X, y = make_classification(n_samples=1_000_000, n_features=20, random_state=42)\n",
    "X_train, X_test, y_train, y_test = train_test_split(X, y, test_size=0.2, random_state=42)\n",
    "\n",
    "dtrain = xgb.DMatrix(X_train, label=y_train)\n",
    "dtest = xgb.DMatrix(X_test, label=y_test)\n",
    "\n",
    "# Base parameters (we override 'objective' to use our custom one)\n",
    "params = {\n",
    "    'tree_method': 'hist',\n",
    "    'verbosity': 1,\n",
    "    'eta': 0.3,\n",
    "    'device': 'cuda',\n",
    "}\n",
    "\n",
    "\n",
    "def train_model(params, label):\n",
    "    print(f\"Training with {label}...\")\n",
    "    start = time.time()\n",
    "    bst = xgb.train(params, dtrain, num_boost_round=100, obj=custom_obj_jax)\n",
    "    end = time.time()\n",
    "\n",
    "    preds = bst.predict(dtest)\n",
    "    preds_binary = [1 if p > 0.5 else 0 for p in preds]\n",
    "    acc = accuracy_score(y_test, preds_binary)\n",
    "\n",
    "    print(f\"{label} Accuracy: {acc:.4f}\")\n",
    "    print(f\"{label} Time: {end - start:.2f} seconds\")\n",
    "\n",
    "\n",
    "# Run with custom JAX objective\n",
    "train_model(params, \"CPU w/ JAX custom objective\")\n"
   ]
  },
  {
   "cell_type": "code",
   "execution_count": null,
   "id": "5b258c9b-46a0-4077-a989-51f5a3b7af8d",
   "metadata": {},
   "outputs": [],
   "source": []
  }
 ],
 "metadata": {
  "kernelspec": {
   "display_name": "jax",
   "language": "python",
   "name": "jax"
  },
  "language_info": {
   "codemirror_mode": {
    "name": "ipython",
    "version": 3
   },
   "file_extension": ".py",
   "mimetype": "text/x-python",
   "name": "python",
   "nbconvert_exporter": "python",
   "pygments_lexer": "ipython3",
   "version": "3.13.2"
  }
 },
 "nbformat": 4,
 "nbformat_minor": 5
}
