{
 "cells": [
  {
   "cell_type": "code",
   "execution_count": 1,
   "id": "2f52635c-6b91-411a-a389-39bb6ca9b26c",
   "metadata": {},
   "outputs": [
    {
     "name": "stdout",
     "output_type": "stream",
     "text": [
      "Training with CPU w/ JAX custom objective...\n",
      "CPU w/ JAX custom objective Accuracy: 0.9792\n",
      "CPU w/ JAX custom objective Time: 2.97 seconds\n"
     ]
    }
   ],
   "source": [
    "import time\n",
    "import xgboost as xgb\n",
    "from sklearn.datasets import make_classification\n",
    "from sklearn.model_selection import train_test_split\n",
    "from sklearn.metrics import accuracy_score\n",
    "\n",
    "import jax.numpy as jnp\n",
    "from jax import grad, jacfwd\n",
    "import numpy as np\n",
    "\n",
    "\n",
    "# Custom binary logistic loss using JAX\n",
    "def custom_obj_jax(preds, dtrain):\n",
    "    labels = dtrain.get_label()\n",
    "    labels = jnp.array(labels)\n",
    "    preds = jnp.array(preds)\n",
    "\n",
    "    # sigmoid\n",
    "    preds_sigmoid = 1 / (1 + jnp.exp(-preds))\n",
    "    \n",
    "    # gradient: sigmoid - label\n",
    "    grad_val = preds_sigmoid - labels\n",
    "\n",
    "    # hessian: sigmoid * (1 - sigmoid)\n",
    "    hess_val = preds_sigmoid * (1 - preds_sigmoid)\n",
    "\n",
    "    return np.array(grad_val), np.array(hess_val)\n",
    "\n",
    "# Generate synthetic data\n",
    "X, y = make_classification(n_samples=1_000_000, n_features=20, random_state=42)\n",
    "X_train, X_test, y_train, y_test = train_test_split(X, y, test_size=0.2, random_state=42)\n",
    "\n",
    "dtrain = xgb.DMatrix(X_train, label=y_train)\n",
    "dtest = xgb.DMatrix(X_test, label=y_test)\n",
    "\n",
    "# Base parameters (we override 'objective' to use our custom one)\n",
    "params = {\n",
    "    'tree_method': 'hist',\n",
    "    'verbosity': 1,\n",
    "    'eta': 0.3,\n",
    "    'device': 'cuda',\n",
    "}\n",
    "\n",
    "\n",
    "def train_model(params, label):\n",
    "    print(f\"Training with {label}...\")\n",
    "    start = time.time()\n",
    "    bst = xgb.train(params, dtrain, num_boost_round=100, obj=custom_obj_jax)\n",
    "    end = time.time()\n",
    "\n",
    "    preds = bst.predict(dtest)\n",
    "    preds_binary = [1 if p > 0.5 else 0 for p in preds]\n",
    "    acc = accuracy_score(y_test, preds_binary)\n",
    "\n",
    "    print(f\"{label} Accuracy: {acc:.4f}\")\n",
    "    print(f\"{label} Time: {end - start:.2f} seconds\")\n",
    "\n",
    "\n",
    "# Run with custom JAX objective\n",
    "train_model(params, \"CPU w/ JAX custom objective\")\n"
   ]
  },
  {
   "cell_type": "code",
   "execution_count": null,
   "id": "5b258c9b-46a0-4077-a989-51f5a3b7af8d",
   "metadata": {},
   "outputs": [],
   "source": []
  }
 ],
 "metadata": {
  "kernelspec": {
   "display_name": "jax",
   "language": "python",
   "name": "jax"
  },
  "language_info": {
   "codemirror_mode": {
    "name": "ipython",
    "version": 3
   },
   "file_extension": ".py",
   "mimetype": "text/x-python",
   "name": "python",
   "nbconvert_exporter": "python",
   "pygments_lexer": "ipython3",
   "version": "3.13.2"
  }
 },
 "nbformat": 4,
 "nbformat_minor": 5
}
